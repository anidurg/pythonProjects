{
 "cells": [
  {
   "cell_type": "code",
   "execution_count": 1,
   "id": "d8d333ed",
   "metadata": {
    "_cell_guid": "b1076dfc-b9ad-4769-8c92-a6c4dae69d19",
    "_uuid": "8f2839f25d086af736a60e9eeb907d3b93b6e0e5",
    "execution": {
     "iopub.execute_input": "2022-06-13T16:08:52.225777Z",
     "iopub.status.busy": "2022-06-13T16:08:52.225331Z",
     "iopub.status.idle": "2022-06-13T16:08:52.279947Z",
     "shell.execute_reply": "2022-06-13T16:08:52.278874Z"
    },
    "papermill": {
     "duration": 0.063172,
     "end_time": "2022-06-13T16:08:52.283345",
     "exception": false,
     "start_time": "2022-06-13T16:08:52.220173",
     "status": "completed"
    },
    "tags": []
   },
   "outputs": [
    {
     "name": "stdout",
     "output_type": "stream",
     "text": [
      "mean is:  32\n",
      "median is:  13\n",
      "mode is:  13\n",
      "std deviation is : 30.962342719288323\n",
      "mean from numpy  is:  32.0\n",
      "28.66555922556345\n",
      "count     7.000000\n",
      "mean     32.000000\n",
      "std      30.962343\n",
      "min       1.000000\n",
      "25%       8.500000\n",
      "50%      13.000000\n",
      "75%      60.500000\n",
      "max      72.000000\n",
      "dtype: float64\n",
      "count     20.000000\n",
      "mean     530.550000\n",
      "std      276.579574\n",
      "min      125.000000\n",
      "25%      315.250000\n",
      "50%      441.000000\n",
      "75%      800.000000\n",
      "max      966.000000\n",
      "Name: salary, dtype: float64\n",
      "variance is:  76496.26052631582\n",
      "correlation between salary and rating is:  0.9612748378992164\n",
      "blue      5\n",
      "green     5\n",
      "yellow    5\n",
      "red       5\n",
      "Name: teams, dtype: int64\n",
      "count       20\n",
      "unique       4\n",
      "top       blue\n",
      "freq         5\n",
      "Name: teams, dtype: object\n"
     ]
    }
   ],
   "source": [
    "\n",
    "#task 1, 2, 3, 4, 5\n",
    "# task 5 will be visualizations using matplotlib\n",
    "import numpy as np # linear algebra\n",
    "import pandas as pd # data processing, CSV file I/O (e.g. pd.read_csv)\n",
    "import matplotlib as plt\n",
    "import statistics\n",
    "#sample dataset\n",
    "datasetx = [1,13,55,72,13,4,66]\n",
    "meanX = statistics.mean(datasetx)\n",
    "medianX = statistics.median(datasetx)\n",
    "modeX = statistics.mode(datasetx)\n",
    "print(\"mean is: \",meanX)\n",
    "print(\"median is: \",modeX)\n",
    "print(\"mode is: \",medianX)\n",
    "print(\"std deviation is :\",statistics.stdev(datasetx))\n",
    "meanNumpyX=np.mean(datasetx)\n",
    "medicanNumpyX = np.median(datasetx)\n",
    "# modeNumpyX=np.mode(datasetx)\n",
    "print(\"mean from numpy  is: \",meanNumpyX)\n",
    "\n",
    "# print(\"mode from numpy  is: \",modeNumpyX)\n",
    "print(np.std(datasetx))\n",
    "numSeries = pd.Series(datasetx)\n",
    "print(numSeries.describe())\n",
    "\n",
    "players_df = pd.read_csv('../input/players/players.csv')\n",
    "# print(players_df.to_string()) \n",
    "print(players_df['salary'].describe())\n",
    "#get the variance\n",
    "print(\"variance is: \",players_df['salary'].var())\n",
    "#find correlation\n",
    "column_1 = players_df['salary']\n",
    "column_2 = players_df['rating']\n",
    "correlation_val = column_1.corr(column_2)\n",
    "print(\"correlation between salary and rating is: \",correlation_val)\n",
    "#result is 0.96 which tells a strong positive correlation\n",
    "\n",
    "# print(\"pearson method of correlation: \",players_df.corr(method='pearson'))\n",
    "# print(\"spearman method of correlation: \",players_df.corr(method='spearman'))\n",
    "\n",
    "# we can do correlations on non-numerical data too\n",
    "print(players_df['teams'].value_counts())\n",
    "print(players_df['teams'].describe())"
   ]
  },
  {
   "cell_type": "code",
   "execution_count": 2,
   "id": "08340b46",
   "metadata": {
    "execution": {
     "iopub.execute_input": "2022-06-13T16:08:52.293078Z",
     "iopub.status.busy": "2022-06-13T16:08:52.292715Z",
     "iopub.status.idle": "2022-06-13T16:08:52.501346Z",
     "shell.execute_reply": "2022-06-13T16:08:52.500278Z"
    },
    "papermill": {
     "duration": 0.214635,
     "end_time": "2022-06-13T16:08:52.503489",
     "exception": false,
     "start_time": "2022-06-13T16:08:52.288854",
     "status": "completed"
    },
    "tags": []
   },
   "outputs": [
    {
     "name": "stdout",
     "output_type": "stream",
     "text": [
      "count     20.000000\n",
      "mean     530.550000\n",
      "std      276.579574\n",
      "min      125.000000\n",
      "25%      315.250000\n",
      "50%      441.000000\n",
      "75%      800.000000\n",
      "max      966.000000\n",
      "Name: salary, dtype: float64\n"
     ]
    },
    {
     "data": {
      "image/png": "[encoded data removed]",
      "text/plain": [
       "<Figure size 432x288 with 1 Axes>"
      ]
     },
     "metadata": {
      "needs_background": "light"
     },
     "output_type": "display_data"
    }
   ],
   "source": [
    "#task 5 visualizations\n",
    "#visual just for salary\n",
    "boxplot = players_df.boxplot(column=['salary'])\n",
    "print(players_df['salary'].describe())"
   ]
  },
  {
   "cell_type": "code",
   "execution_count": 3,
   "id": "4b7d3af7",
   "metadata": {
    "execution": {
     "iopub.execute_input": "2022-06-13T16:08:52.511122Z",
     "iopub.status.busy": "2022-06-13T16:08:52.510737Z",
     "iopub.status.idle": "2022-06-13T16:08:52.683633Z",
     "shell.execute_reply": "2022-06-13T16:08:52.682618Z"
    },
    "papermill": {
     "duration": 0.179127,
     "end_time": "2022-06-13T16:08:52.685776",
     "exception": false,
     "start_time": "2022-06-13T16:08:52.506649",
     "status": "completed"
    },
    "tags": []
   },
   "outputs": [
    {
     "name": "stdout",
     "output_type": "stream",
     "text": [
      "count     20.000000\n",
      "mean     530.550000\n",
      "std      276.579574\n",
      "min      125.000000\n",
      "25%      315.250000\n",
      "50%      441.000000\n",
      "75%      800.000000\n",
      "max      966.000000\n",
      "Name: salary, dtype: float64\n"
     ]
    },
    {
     "data": {
      "image/png": "[encoded data removed]",
      "text/plain": [
       "<Figure size 432x288 with 1 Axes>"
      ]
     },
     "metadata": {
      "needs_background": "light"
     },
     "output_type": "display_data"
    }
   ],
   "source": [
    "#task 5 visualizations\n",
    "#visual just for all the columns\n",
    "boxplot = players_df.boxplot()\n",
    "print(players_df['salary'].describe())\n",
    "#graph hardly shows any data poins for rating as scales \n",
    "#are different for rating like 1, 2, 3, 4, 5 which are very close to each other"
   ]
  },
  {
   "cell_type": "code",
   "execution_count": 4,
   "id": "2006382b",
   "metadata": {
    "execution": {
     "iopub.execute_input": "2022-06-13T16:08:52.694483Z",
     "iopub.status.busy": "2022-06-13T16:08:52.693761Z",
     "iopub.status.idle": "2022-06-13T16:08:52.846456Z",
     "shell.execute_reply": "2022-06-13T16:08:52.845227Z"
    },
    "papermill": {
     "duration": 0.159844,
     "end_time": "2022-06-13T16:08:52.848912",
     "exception": false,
     "start_time": "2022-06-13T16:08:52.689068",
     "status": "completed"
    },
    "tags": []
   },
   "outputs": [
    {
     "data": {
      "image/png": "[encoded data removed]",
      "text/plain": [
       "<Figure size 432x288 with 1 Axes>"
      ]
     },
     "metadata": {
      "needs_background": "light"
     },
     "output_type": "display_data"
    }
   ],
   "source": [
    "#boxplot with matplotlib\n",
    "import matplotlib.pyplot as plt1\n",
    "\n",
    "x = players_df['salary']\n",
    "fig, ax = plt1.subplots()\n",
    "ax.boxplot(x, showmeans=True, meanline=True\n",
    "             ,medianprops={'linewidth':5,'color':'purple'})\n",
    "plt1.show()"
   ]
  },
  {
   "cell_type": "code",
   "execution_count": 5,
   "id": "90c95cef",
   "metadata": {
    "execution": {
     "iopub.execute_input": "2022-06-13T16:08:52.861313Z",
     "iopub.status.busy": "2022-06-13T16:08:52.860669Z",
     "iopub.status.idle": "2022-06-13T16:08:53.072549Z",
     "shell.execute_reply": "2022-06-13T16:08:53.071526Z"
    },
    "papermill": {
     "duration": 0.221922,
     "end_time": "2022-06-13T16:08:53.075747",
     "exception": false,
     "start_time": "2022-06-13T16:08:52.853825",
     "status": "completed"
    },
    "tags": []
   },
   "outputs": [
    {
     "name": "stdout",
     "output_type": "stream",
     "text": [
      "pearson method of correlation:            salary    rating\n",
      "salary  1.000000  0.961275\n",
      "rating  0.961275  1.000000\n"
     ]
    },
    {
     "data": {
      "image/png": "[encoded data removed]",
      "text/plain": [
       "<Figure size 432x288 with 1 Axes>"
      ]
     },
     "metadata": {
      "needs_background": "light"
     },
     "output_type": "display_data"
    }
   ],
   "source": [
    "#scatterplots to demonstrate correlation\n",
    "print(\"pearson method of correlation: \",players_df.corr(method='pearson'))\n",
    "\n",
    "ax = players_df.plot.scatter(x=\"salary\", y=\"rating\",color=\"DarkBlue\",label=\"Player Salary Vs Rating\")"
   ]
  },
  {
   "cell_type": "code",
   "execution_count": 6,
   "id": "098f2388",
   "metadata": {
    "execution": {
     "iopub.execute_input": "2022-06-13T16:08:53.085124Z",
     "iopub.status.busy": "2022-06-13T16:08:53.084742Z",
     "iopub.status.idle": "2022-06-13T16:08:53.272456Z",
     "shell.execute_reply": "2022-06-13T16:08:53.271457Z"
    },
    "papermill": {
     "duration": 0.195002,
     "end_time": "2022-06-13T16:08:53.274537",
     "exception": false,
     "start_time": "2022-06-13T16:08:53.079535",
     "status": "completed"
    },
    "tags": []
   },
   "outputs": [
    {
     "name": "stdout",
     "output_type": "stream",
     "text": [
      "ratingCount is:  4     5\n",
      "7     5\n",
      "2     3\n",
      "1     2\n",
      "9     2\n",
      "3     1\n",
      "5     1\n",
      "10    1\n",
      "Name: rating, dtype: int64\n"
     ]
    },
    {
     "data": {
      "text/plain": [
       "Text(0, 0.5, 'number of instances')"
      ]
     },
     "execution_count": 6,
     "metadata": {},
     "output_type": "execute_result"
    },
    {
     "data": {
      "image/png": "[encoded data removed]",
      "text/plain": [
       "<Figure size 432x288 with 1 Axes>"
      ]
     },
     "metadata": {
      "needs_background": "light"
     },
     "output_type": "display_data"
    }
   ],
   "source": [
    "#Bar graph\n",
    "ratingCount = players_df['rating'].value_counts()\n",
    "print(\"ratingCount is: \",ratingCount)\n",
    "ratingCount.plot.barh()\n",
    "plt1.xlabel(\"rating\")\n",
    "plt1.ylabel(\"number of instances\")"
   ]
  },
  {
   "cell_type": "code",
   "execution_count": null,
   "id": "95979588",
   "metadata": {
    "papermill": {
     "duration": 0.003683,
     "end_time": "2022-06-13T16:08:53.282472",
     "exception": false,
     "start_time": "2022-06-13T16:08:53.278789",
     "status": "completed"
    },
    "tags": []
   },
   "outputs": [],
   "source": []
  },
  {
   "cell_type": "code",
   "execution_count": 7,
   "id": "b35a20a2",
   "metadata": {
    "execution": {
     "iopub.execute_input": "2022-06-13T16:08:53.292468Z",
     "iopub.status.busy": "2022-06-13T16:08:53.292022Z",
     "iopub.status.idle": "2022-06-13T16:08:53.496848Z",
     "shell.execute_reply": "2022-06-13T16:08:53.495777Z"
    },
    "papermill": {
     "duration": 0.2125,
     "end_time": "2022-06-13T16:08:53.498935",
     "exception": false,
     "start_time": "2022-06-13T16:08:53.286435",
     "status": "completed"
    },
    "tags": []
   },
   "outputs": [
    {
     "data": {
      "text/plain": [
       "Text(0, 0.5, '')"
      ]
     },
     "execution_count": 7,
     "metadata": {},
     "output_type": "execute_result"
    },
    {
     "data": {
      "image/png": "[encoded data removed]",
      "text/plain": [
       "<Figure size 432x288 with 1 Axes>"
      ]
     },
     "metadata": {},
     "output_type": "display_data"
    }
   ],
   "source": [
    "#pie chart\n",
    "\n",
    "players_df.groupby('teams').size().plot(kind='pie')\n",
    "plt1.title(\"Team Representation\")\n",
    "plt1.ylabel(\"\")"
   ]
  },
  {
   "cell_type": "markdown",
   "id": "367be2c8",
   "metadata": {
    "papermill": {
     "duration": 0.008064,
     "end_time": "2022-06-13T16:08:53.514821",
     "exception": false,
     "start_time": "2022-06-13T16:08:53.506757",
     "status": "completed"
    },
    "tags": []
   },
   "source": []
  }
 ],
 "metadata": {
  "kernelspec": {
   "display_name": "Python 3",
   "language": "python",
   "name": "python3"
  },
  "language_info": {
   "codemirror_mode": {
    "name": "ipython",
    "version": 3
   },
   "file_extension": ".py",
   "mimetype": "text/x-python",
   "name": "python",
   "nbconvert_exporter": "python",
   "pygments_lexer": "ipython3",
   "version": "3.7.12"
  },
  "papermill": {
   "default_parameters": {},
   "duration": 11.00188,
   "end_time": "2022-06-13T16:08:54.146203",
   "environment_variables": {},
   "exception": null,
   "input_path": "__notebook__.ipynb",
   "output_path": "__notebook__.ipynb",
   "parameters": {},
   "start_time": "2022-06-13T16:08:43.144323",
   "version": "2.3.4"
  }
 },
 "nbformat": 4,
 "nbformat_minor": 5
}
