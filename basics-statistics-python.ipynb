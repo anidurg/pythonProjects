{
 "cells": [
  {
   "cell_type": "code",
   "execution_count": 1,
   "id": "f15cfbc9",
   "metadata": {
    "_cell_guid": "b1076dfc-b9ad-4769-8c92-a6c4dae69d19",
    "_uuid": "8f2839f25d086af736a60e9eeb907d3b93b6e0e5",
    "execution": {
     "iopub.execute_input": "2022-06-13T06:48:10.507740Z",
     "iopub.status.busy": "2022-06-13T06:48:10.507084Z",
     "iopub.status.idle": "2022-06-13T06:48:10.567415Z",
     "shell.execute_reply": "2022-06-13T06:48:10.566394Z"
    },
    "papermill": {
     "duration": 0.067431,
     "end_time": "2022-06-13T06:48:10.569997",
     "exception": false,
     "start_time": "2022-06-13T06:48:10.502566",
     "status": "completed"
    },
    "tags": []
   },
   "outputs": [
    {
     "name": "stdout",
     "output_type": "stream",
     "text": [
      "mean is:  32\n",
      "median is:  13\n",
      "mode is:  13\n",
      "std deviation is : 30.962342719288323\n",
      "mean from numpy  is:  32.0\n",
      "28.66555922556345\n",
      "count     7.000000\n",
      "mean     32.000000\n",
      "std      30.962343\n",
      "min       1.000000\n",
      "25%       8.500000\n",
      "50%      13.000000\n",
      "75%      60.500000\n",
      "max      72.000000\n",
      "dtype: float64\n",
      "count     20.000000\n",
      "mean     530.550000\n",
      "std      276.579574\n",
      "min      125.000000\n",
      "25%      315.250000\n",
      "50%      441.000000\n",
      "75%      800.000000\n",
      "max      966.000000\n",
      "Name: salary, dtype: float64\n",
      "variance is:  76496.26052631582\n",
      "correlation between salary and rating is:  0.9612748378992164\n",
      "blue      5\n",
      "green     5\n",
      "yellow    5\n",
      "red       5\n",
      "Name: teams, dtype: int64\n",
      "count       20\n",
      "unique       4\n",
      "top       blue\n",
      "freq         5\n",
      "Name: teams, dtype: object\n"
     ]
    }
   ],
   "source": [
    "# This Python 3 environment comes with many helpful analytics libraries installed\n",
    "# It is defined by the kaggle/python Docker image: https://github.com/kaggle/docker-python\n",
    "# For example, here's several helpful packages to load\n",
    "\n",
    "import numpy as np # linear algebra\n",
    "import pandas as pd # data processing, CSV file I/O (e.g. pd.read_csv)\n",
    "\n",
    "# Input data files are available in the read-only \"../input/\" directory\n",
    "# For example, running this (by clicking run or pressing Shift+Enter) will list all files under the input directory\n",
    "\n",
    "\n",
    "# You can write up to 20GB to the current directory (/kaggle/working/) that gets preserved as output when you create a version using \"Save & Run All\" \n",
    "# You can also write temporary files to /kaggle/temp/, but they won't be saved outside of the current session\n",
    "\n",
    "import statistics\n",
    "#sample dataset\n",
    "datasetx = [1,13,55,72,13,4,66]\n",
    "meanX = statistics.mean(datasetx)\n",
    "medianX = statistics.median(datasetx)\n",
    "modeX = statistics.mode(datasetx)\n",
    "print(\"mean is: \",meanX)\n",
    "print(\"median is: \",modeX)\n",
    "print(\"mode is: \",medianX)\n",
    "print(\"std deviation is :\",statistics.stdev(datasetx))\n",
    "meanNumpyX=np.mean(datasetx)\n",
    "medicanNumpyX = np.median(datasetx)\n",
    "# modeNumpyX=np.mode(datasetx)\n",
    "print(\"mean from numpy  is: \",meanNumpyX)\n",
    "\n",
    "# print(\"mode from numpy  is: \",modeNumpyX)\n",
    "print(np.std(datasetx))\n",
    "numSeries = pd.Series(datasetx)\n",
    "print(numSeries.describe())\n",
    "\n",
    "players_df = pd.read_csv('../input/players/players.csv')\n",
    "# print(players_df.to_string()) \n",
    "print(players_df['salary'].describe())\n",
    "#get the variance\n",
    "print(\"variance is: \",players_df['salary'].var())\n",
    "#find correlation\n",
    "column_1 = players_df['salary']\n",
    "column_2 = players_df['rating']\n",
    "correlation_val = column_1.corr(column_2)\n",
    "print(\"correlation between salary and rating is: \",correlation_val)\n",
    "#result is 0.96 which tells a strong positive correlation\n",
    "\n",
    "# print(\"pearson method of correlation: \",players_df.corr(method='pearson'))\n",
    "# print(\"spearman method of correlation: \",players_df.corr(method='spearman'))\n",
    "\n",
    "# we can do correlations on non-numerical data too\n",
    "print(players_df['teams'].value_counts())\n",
    "print(players_df['teams'].describe())"
   ]
  }
 ],
 "metadata": {
  "kernelspec": {
   "display_name": "Python 3",
   "language": "python",
   "name": "python3"
  },
  "language_info": {
   "codemirror_mode": {
    "name": "ipython",
    "version": 3
   },
   "file_extension": ".py",
   "mimetype": "text/x-python",
   "name": "python",
   "nbconvert_exporter": "python",
   "pygments_lexer": "ipython3",
   "version": "3.7.12"
  },
  "papermill": {
   "default_parameters": {},
   "duration": 10.151787,
   "end_time": "2022-06-13T06:48:11.393737",
   "environment_variables": {},
   "exception": null,
   "input_path": "__notebook__.ipynb",
   "output_path": "__notebook__.ipynb",
   "parameters": {},
   "start_time": "2022-06-13T06:48:01.241950",
   "version": "2.3.4"
  }
 },
 "nbformat": 4,
 "nbformat_minor": 5
}
