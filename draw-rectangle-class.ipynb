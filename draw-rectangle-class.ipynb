{
 "cells": [
  {
   "cell_type": "code",
   "execution_count": 1,
   "id": "9e7bb901",
   "metadata": {
    "_cell_guid": "b1076dfc-b9ad-4769-8c92-a6c4dae69d19",
    "_uuid": "8f2839f25d086af736a60e9eeb907d3b93b6e0e5",
    "execution": {
     "iopub.execute_input": "2022-06-17T20:02:17.655879Z",
     "iopub.status.busy": "2022-06-17T20:02:17.655449Z",
     "iopub.status.idle": "2022-06-17T20:02:17.673727Z",
     "shell.execute_reply": "2022-06-17T20:02:17.672670Z"
    },
    "papermill": {
     "duration": 0.026429,
     "end_time": "2022-06-17T20:02:17.676137",
     "exception": false,
     "start_time": "2022-06-17T20:02:17.649708",
     "status": "completed"
    },
    "tags": []
   },
   "outputs": [],
   "source": [
    "import numpy as np # linear algebra\n",
    "import pandas as pd # data processing, CSV file I/O (e.g. pd.read_csv)\n",
    "import matplotlib.pyplot as plt\n",
    "%matplotlib inline\n",
    "\n",
    "class Rectangle(object):\n",
    "    \n",
    "    # Constructor\n",
    "    def __init__(self, width=2, height=3, color='r'):\n",
    "        self.height = height \n",
    "        self.width = width\n",
    "        self.color = color\n",
    "        \n",
    "    # add one method to make the rectangle longer\n",
    "    def add_width(self,width):\n",
    "        self.width = self.width + width\n",
    "        return(self.width)\n",
    "    \n",
    "    # Method\n",
    "    def drawRectangle(self):\n",
    "        plt.gca().add_patch(plt.Rectangle((0, 0), self.width, self.height ,fc=self.color))\n",
    "        plt.axis('scaled')\n",
    "        plt.show()\n",
    "        \n",
    "    \n",
    "   "
   ]
  },
  {
   "cell_type": "code",
   "execution_count": 2,
   "id": "0330f0a5",
   "metadata": {
    "execution": {
     "iopub.execute_input": "2022-06-17T20:02:17.682802Z",
     "iopub.status.busy": "2022-06-17T20:02:17.682423Z",
     "iopub.status.idle": "2022-06-17T20:02:17.923087Z",
     "shell.execute_reply": "2022-06-17T20:02:17.922332Z"
    },
    "papermill": {
     "duration": 0.246237,
     "end_time": "2022-06-17T20:02:17.925237",
     "exception": false,
     "start_time": "2022-06-17T20:02:17.679000",
     "status": "completed"
    },
    "tags": []
   },
   "outputs": [
    {
     "data": {
      "image/png": "[encoded data removed]",
      "text/plain": [
       "<Figure size 432x288 with 1 Axes>"
      ]
     },
     "metadata": {
      "needs_background": "light"
     },
     "output_type": "display_data"
    }
   ],
   "source": [
    "skinnyrect = Rectangle(2,3,'Blue')\n",
    "dir(skinnyrect)\n",
    "skinnyrect.height\n",
    "skinnyrect.width\n",
    "skinnyrect.color\n",
    "skinnyrect.drawRectangle()"
   ]
  },
  {
   "cell_type": "code",
   "execution_count": 3,
   "id": "f26125a2",
   "metadata": {
    "execution": {
     "iopub.execute_input": "2022-06-17T20:02:17.932237Z",
     "iopub.status.busy": "2022-06-17T20:02:17.931839Z",
     "iopub.status.idle": "2022-06-17T20:02:18.138437Z",
     "shell.execute_reply": "2022-06-17T20:02:18.137418Z"
    },
    "papermill": {
     "duration": 0.212716,
     "end_time": "2022-06-17T20:02:18.140787",
     "exception": false,
     "start_time": "2022-06-17T20:02:17.928071",
     "status": "completed"
    },
    "tags": []
   },
   "outputs": [
    {
     "data": {
      "image/png": "[encoded data removed]",
      "text/plain": [
       "<Figure size 432x288 with 1 Axes>"
      ]
     },
     "metadata": {
      "needs_background": "light"
     },
     "output_type": "display_data"
    }
   ],
   "source": [
    "FatYellowRectangle = Rectangle(20, 5, 'yellow')\n",
    "FatYellowRectangle.drawRectangle()"
   ]
  },
  {
   "cell_type": "code",
   "execution_count": 4,
   "id": "2f81f959",
   "metadata": {
    "execution": {
     "iopub.execute_input": "2022-06-17T20:02:18.148098Z",
     "iopub.status.busy": "2022-06-17T20:02:18.147158Z",
     "iopub.status.idle": "2022-06-17T20:02:18.332553Z",
     "shell.execute_reply": "2022-06-17T20:02:18.331395Z"
    },
    "papermill": {
     "duration": 0.191551,
     "end_time": "2022-06-17T20:02:18.335076",
     "exception": false,
     "start_time": "2022-06-17T20:02:18.143525",
     "status": "completed"
    },
    "tags": []
   },
   "outputs": [
    {
     "name": "stdout",
     "output_type": "stream",
     "text": [
      "before calling add_width method:  2\n",
      "after calling add_width method:  7\n",
      "after calling add_width method:  22\n"
     ]
    },
    {
     "data": {
      "image/png": "[encoded data removed]",
      "text/plain": [
       "<Figure size 432x288 with 1 Axes>"
      ]
     },
     "metadata": {
      "needs_background": "light"
     },
     "output_type": "display_data"
    }
   ],
   "source": [
    "print(\"before calling add_width method: \",skinnyrect.width)\n",
    "skinnyrect.add_width(5)\n",
    "print(\"after calling add_width method: \",skinnyrect.width)\n",
    "skinnyrect.add_width(15)\n",
    "print(\"after calling add_width method: \",skinnyrect.width)\n",
    "longerYellowRectangle = Rectangle(skinnyrect.width, 5, 'yellow')\n",
    "longerYellowRectangle.drawRectangle()\n"
   ]
  }
 ],
 "metadata": {
  "kernelspec": {
   "display_name": "Python 3",
   "language": "python",
   "name": "python3"
  },
  "language_info": {
   "codemirror_mode": {
    "name": "ipython",
    "version": 3
   },
   "file_extension": ".py",
   "mimetype": "text/x-python",
   "name": "python",
   "nbconvert_exporter": "python",
   "pygments_lexer": "ipython3",
   "version": "3.7.12"
  },
  "papermill": {
   "default_parameters": {},
   "duration": 11.272927,
   "end_time": "2022-06-17T20:02:18.961357",
   "environment_variables": {},
   "exception": null,
   "input_path": "__notebook__.ipynb",
   "output_path": "__notebook__.ipynb",
   "parameters": {},
   "start_time": "2022-06-17T20:02:07.688430",
   "version": "2.3.4"
  }
 },
 "nbformat": 4,
 "nbformat_minor": 5
}
